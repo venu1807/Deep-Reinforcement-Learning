{
 "cells": [
  {
   "cell_type": "code",
   "execution_count": 2,
   "metadata": {
    "ExecuteTime": {
     "end_time": "2018-11-02T14:10:16.934360Z",
     "start_time": "2018-11-02T14:10:16.503998Z"
    }
   },
   "outputs": [],
   "source": [
    "import numpy as np\n",
    "import matplotlib.pyplot as plt\n",
    "import csv\n",
    "%matplotlib inline"
   ]
  },
  {
   "cell_type": "markdown",
   "metadata": {},
   "source": [
    "Load file and split input from target"
   ]
  },
  {
   "cell_type": "markdown",
   "metadata": {},
   "source": [
    "Dataset from:\n",
    "https://archive.ics.uci.edu/ml/datasets/Airfoil+Self-Noise"
   ]
  },
  {
   "cell_type": "code",
   "execution_count": 3,
   "metadata": {
    "ExecuteTime": {
     "end_time": "2018-11-02T14:10:16.976404Z",
     "start_time": "2018-11-02T14:10:16.941733Z"
    }
   },
   "outputs": [
    {
     "name": "stdout",
     "output_type": "stream",
     "text": [
      "(1503, 6)\n",
      "[[ 800.            0.            0.3048       71.3           0.00266337\n",
      "   126.201     ]\n",
      " [1000.            0.            0.3048       71.3           0.00266337\n",
      "   125.201     ]\n",
      " [1250.            0.            0.3048       71.3           0.00266337\n",
      "   125.951     ]]\n"
     ]
    }
   ],
   "source": [
    "with open(\"airfoil_self_noise.dat\",\"r\") as file:\n",
    "    csvreader = csv.reader(file, delimiter='\\t')\n",
    "    table = np.asarray([row for row in csvreader], dtype=np.float)\n",
    "np.set_printoptions(suppress=True) # do not show scientific notation\n",
    "print(table.shape)\n",
    "print(table[:3,:])"
   ]
  },
  {
   "cell_type": "markdown",
   "metadata": {},
   "source": [
    "normalize data and keep normalizing factors"
   ]
  },
  {
   "cell_type": "code",
   "execution_count": 4,
   "metadata": {
    "ExecuteTime": {
     "end_time": "2018-11-02T14:10:17.299818Z",
     "start_time": "2018-11-02T14:10:17.276120Z"
    }
   },
   "outputs": [],
   "source": [
    "    xs = table[:,0:-1]\n",
    "    x_mean, x_std = np.mean(xs), np.std(xs)\n",
    "    xs = (xs - x_mean)/x_std\n",
    "    ys = table[:,[-1]]\n",
    "    y_mean, y_std = np.mean(ys), np.std(ys)\n",
    "    ys = (ys - y_mean)/y_std"
   ]
  },
  {
   "cell_type": "code",
   "execution_count": 5,
   "metadata": {
    "ExecuteTime": {
     "end_time": "2018-11-02T14:10:17.409825Z",
     "start_time": "2018-11-02T14:10:17.400619Z"
    },
    "scrolled": true
   },
   "outputs": [
    {
     "name": "stdout",
     "output_type": "stream",
     "text": [
      "(1503, 5) (1503, 1)\n",
      "[[0.19793876]\n",
      " [0.05293476]\n",
      " [0.16168776]]\n"
     ]
    }
   ],
   "source": [
    "print(xs.shape,ys.shape)\n",
    "print(ys[:3])"
   ]
  },
  {
   "cell_type": "markdown",
   "metadata": {},
   "source": [
    "Split data into train, val, test"
   ]
  },
  {
   "cell_type": "code",
   "execution_count": 6,
   "metadata": {
    "ExecuteTime": {
     "end_time": "2018-11-02T14:10:17.797498Z",
     "start_time": "2018-11-02T14:10:17.784522Z"
    }
   },
   "outputs": [],
   "source": [
    "def splitDataSetShuffle(inputs, outputs,percent_val_test=10, seed=1):\n",
    "    assert len(inputs) == len(outputs)\n",
    "    size = len(inputs)\n",
    "    np.random.seed(seed)\n",
    "    shuffle = np.random.permutation(size)\n",
    "    inps = np.asarray(inputs)[shuffle]\n",
    "    outs = np.asarray(outputs)[shuffle]\n",
    "    ts = size * (100-2*percent_val_test) // 100\n",
    "    vs = size * percent_val_test // 100\n",
    "    train_set = (inps[:ts], outs[:ts])\n",
    "    valid_set = (inps[ts:ts + vs], outs[ts:ts + vs])\n",
    "    test_set = (inps[ts + vs:], outs[ts + vs:])\n",
    "    return train_set, valid_set, test_set"
   ]
  },
  {
   "cell_type": "code",
   "execution_count": 27,
   "metadata": {
    "ExecuteTime": {
     "end_time": "2018-11-02T14:18:11.028160Z",
     "start_time": "2018-11-02T14:18:11.021081Z"
    }
   },
   "outputs": [],
   "source": [
    "train_set, valid_set, test_set = splitDataSetShuffle(xs,ys, seed=1)"
   ]
  },
  {
   "cell_type": "code",
   "execution_count": 8,
   "metadata": {
    "ExecuteTime": {
     "end_time": "2018-11-02T14:10:18.551375Z",
     "start_time": "2018-11-02T14:10:18.533373Z"
    }
   },
   "outputs": [
    {
     "name": "stdout",
     "output_type": "stream",
     "text": [
      "(1202, 5) (150, 5) (151, 5)\n",
      "(1202, 1) (150, 1) (151, 1)\n"
     ]
    }
   ],
   "source": [
    "print(train_set[0].shape, valid_set[0].shape, test_set[0].shape)\n",
    "print(train_set[1].shape, valid_set[1].shape, test_set[1].shape)"
   ]
  },
  {
   "cell_type": "markdown",
   "metadata": {},
   "source": [
    "# 2 layer neural network"
   ]
  },
  {
   "cell_type": "code",
   "execution_count": 15,
   "metadata": {
    "ExecuteTime": {
     "end_time": "2018-11-02T14:13:54.776763Z",
     "start_time": "2018-11-02T14:13:54.753543Z"
    }
   },
   "outputs": [],
   "source": [
    "class simpleNN(object):\n",
    "    def __init__(self, input_dim, output_dim, num_hidden_units, seed=2):        \n",
    "        # initialize weight matrices and bias vectors\n",
    "        np.random.seed(seed)\n",
    "        weight_variance =  2.0/(num_hidden_units + input_dim) # Xavier initialization\n",
    "        self.W1 = np.random.randn(input_dim, num_hidden_units) * weight_variance\n",
    "        self.b1 = np.zeros(num_hidden_units)\n",
    "        weight_variance =  2.0/(output_dim + num_hidden_units)\n",
    "        self.W2 = np.random.randn(num_hidden_units, output_dim) * weight_variance\n",
    "        self.b2 = np.zeros(output_dim)        \n",
    "        self.layer1 = None\n",
    "        \n",
    "    def evaluate(self, x):                    \n",
    "        self.layer1 = np.tanh(np.dot(x, self.W1) + self.b1)\n",
    "        return np.dot(self.layer1, self.W2) + self.b2        \n",
    "    \n",
    "    def train_with_square_loss(self, X, y, epsilon=0.001, reg_constant = 0):\n",
    "        # implement this. \n",
    "        # X is the matrix of inputs\n",
    "        # y is the vector of target outputs\n",
    "        # loss function: L = Sum_i(f(x_i) - y)_i^2        \n",
    "        pred = self.evaluate(X)\n",
    "        delta2 = (pred - y)\n",
    "        \n",
    "        delta1 = np.dot(delta2, self.W2.T) * (1-self.layer1**2)\n",
    "#        print(X.shape, delta2.shape, delta1.shape)\n",
    "        # derivative of tanh(z) = 1-tanh(x)^2        \n",
    "        self.W2 += -epsilon * np.dot(self.layer1.T, delta2)\n",
    "        self.b2 += -epsilon * np.sum(delta2, axis=0)\n",
    "        self.W1 += -epsilon * np.dot(X.T, delta1)\n",
    "        self.b1 += -epsilon * np.sum(delta1, axis=0)\n",
    "        if reg_constant > 0:\n",
    "            self.W2 += -epsilon * reg_constant * self.W2 \n",
    "            self.b2 += -epsilon * reg_constant * self.b2\n",
    "            self.W1 += -epsilon * reg_constant * self.W1\n",
    "            self.b1 += -epsilon * reg_constant * self.b1\n",
    "        return np.mean((pred - y)**2)    \n",
    "                \n",
    "    def error(self, X, y):\n",
    "        pred = self.evaluate(X)\n",
    "        return np.mean((pred - y)**2)\n",
    "        "
   ]
  },
  {
   "cell_type": "markdown",
   "metadata": {},
   "source": [
    "Create a network instance with 20 hidden units"
   ]
  },
  {
   "cell_type": "code",
   "execution_count": 16,
   "metadata": {
    "ExecuteTime": {
     "end_time": "2018-11-02T14:13:56.106443Z",
     "start_time": "2018-11-02T14:13:56.101024Z"
    }
   },
   "outputs": [],
   "source": [
    "net = simpleNN(train_set[0].shape[1], 1, 20)"
   ]
  },
  {
   "cell_type": "markdown",
   "metadata": {},
   "source": [
    "initial error"
   ]
  },
  {
   "cell_type": "code",
   "execution_count": 17,
   "metadata": {
    "ExecuteTime": {
     "end_time": "2018-11-02T14:13:56.615948Z",
     "start_time": "2018-11-02T14:13:56.599886Z"
    }
   },
   "outputs": [
    {
     "data": {
      "text/plain": [
       "1.103077797180614"
      ]
     },
     "execution_count": 17,
     "metadata": {},
     "output_type": "execute_result"
    }
   ],
   "source": [
    "net.error(valid_set[0],valid_set[1])"
   ]
  },
  {
   "cell_type": "markdown",
   "metadata": {},
   "source": [
    "## Perform training using gradient decent (using all of the training data at once)"
   ]
  },
  {
   "cell_type": "code",
   "execution_count": 18,
   "metadata": {
    "ExecuteTime": {
     "end_time": "2018-11-02T14:13:57.313161Z",
     "start_time": "2018-11-02T14:13:57.304040Z"
    }
   },
   "outputs": [],
   "source": [
    "train_errors = []\n",
    "val_errors = []"
   ]
  },
  {
   "cell_type": "code",
   "execution_count": 23,
   "metadata": {
    "ExecuteTime": {
     "end_time": "2018-11-02T14:15:41.623897Z",
     "start_time": "2018-11-02T14:14:43.392881Z"
    }
   },
   "outputs": [],
   "source": [
    "for i in range(40000):    \n",
    "    train_errors.append(net.train_with_square_loss(train_set[0],train_set[1], 0.00005))\n",
    "    val_errors.append(net.error(*valid_set))"
   ]
  },
  {
   "cell_type": "code",
   "execution_count": 24,
   "metadata": {
    "ExecuteTime": {
     "end_time": "2018-11-02T14:15:42.020406Z",
     "start_time": "2018-11-02T14:15:41.642808Z"
    }
   },
   "outputs": [
    {
     "data": {
      "text/plain": [
       "Text(0,0.5,'error')"
      ]
     },
     "execution_count": 24,
     "metadata": {},
     "output_type": "execute_result"
    },
    {
     "data": {
      "image/png": "[encoded data removed]",
      "text/plain": [
       "<Figure size 432x288 with 1 Axes>"
      ]
     },
     "metadata": {},
     "output_type": "display_data"
    }
   ],
   "source": [
    "plt.plot(train_errors, color='g', linewidth=2)\n",
    "plt.plot(val_errors, color='b', linestyle='--', linewidth=2)\n",
    "#plt.yscale(\"log\")\n",
    "plt.xlabel(\"steps\")\n",
    "plt.ylabel(\"error\")"
   ]
  },
  {
   "cell_type": "code",
   "execution_count": 26,
   "metadata": {
    "ExecuteTime": {
     "end_time": "2018-11-02T14:17:32.248206Z",
     "start_time": "2018-11-02T14:17:32.223367Z"
    }
   },
   "outputs": [
    {
     "name": "stdout",
     "output_type": "stream",
     "text": [
      "0.7382239895779193 0.7524655763164048 0.827482814652158\n"
     ]
    }
   ],
   "source": [
    "print(net.error(*train_set),net.error(*valid_set),net.error(*test_set))"
   ]
  },
  {
   "cell_type": "markdown",
   "metadata": {},
   "source": [
    "## perform stochastic gradient descent (SGD) (with minibatches)"
   ]
  },
  {
   "cell_type": "code",
   "execution_count": 30,
   "metadata": {
    "ExecuteTime": {
     "end_time": "2018-11-02T14:20:26.295047Z",
     "start_time": "2018-11-02T14:20:26.283362Z"
    }
   },
   "outputs": [],
   "source": [
    "def running_mean(x, N):\n",
    "    cumsum = np.cumsum(np.insert(x, 0, 0)) \n",
    "    return (cumsum[N:] - cumsum[:-N]) / float(N)"
   ]
  },
  {
   "cell_type": "code",
   "execution_count": 31,
   "metadata": {
    "ExecuteTime": {
     "end_time": "2018-11-02T14:20:28.025770Z",
     "start_time": "2018-11-02T14:20:28.013352Z"
    }
   },
   "outputs": [],
   "source": [
    "net = simpleNN(train_set[0].shape[1], 1, 20)"
   ]
  },
  {
   "cell_type": "code",
   "execution_count": 32,
   "metadata": {
    "ExecuteTime": {
     "end_time": "2018-11-02T14:20:28.486859Z",
     "start_time": "2018-11-02T14:20:28.464934Z"
    }
   },
   "outputs": [
    {
     "data": {
      "text/plain": [
       "75.125"
      ]
     },
     "execution_count": 32,
     "metadata": {},
     "output_type": "execute_result"
    }
   ],
   "source": [
    "train_set[0].shape[0]/16"
   ]
  },
  {
   "cell_type": "code",
   "execution_count": 33,
   "metadata": {
    "ExecuteTime": {
     "end_time": "2018-11-02T14:20:30.569511Z",
     "start_time": "2018-11-02T14:20:30.546331Z"
    }
   },
   "outputs": [],
   "source": [
    "train_sgd_errors = []\n",
    "val_sgd_errors = []\n",
    "steps=0"
   ]
  },
  {
   "cell_type": "code",
   "execution_count": 34,
   "metadata": {
    "ExecuteTime": {
     "end_time": "2018-11-02T14:26:09.754904Z",
     "start_time": "2018-11-02T14:20:39.965959Z"
    }
   },
   "outputs": [],
   "source": [
    "batch_size = 16\n",
    "for i in range(50000*75):        \n",
    "    idxs = np.random.randint(low = 0, high = len(train_set[0]), size=batch_size)\n",
    "    dat = train_set[0][idxs], train_set[1][idxs]        \n",
    "    train_sgd_errors.append(net.train_with_square_loss(dat[0],dat[1], 0.0001))    \n",
    "    steps+=1\n",
    "    if i%100 ==0: val_sgd_errors.append((steps,net.error(*valid_set)))"
   ]
  },
  {
   "cell_type": "code",
   "execution_count": 21,
   "metadata": {
    "ExecuteTime": {
     "end_time": "2018-10-26T07:03:39.140250Z",
     "start_time": "2018-10-26T07:03:38.696896Z"
    },
    "scrolled": true
   },
   "outputs": [
    {
     "data": {
      "text/plain": [
       "Text(0,0.5,'error')"
      ]
     },
     "execution_count": 21,
     "metadata": {},
     "output_type": "execute_result"
    },
    {
     "data": {
      "image/png": "[encoded data removed]",
      "text/plain": [
       "<Figure size 432x288 with 1 Axes>"
      ]
     },
     "metadata": {},
     "output_type": "display_data"
    }
   ],
   "source": [
    "val_sgd_errors_array = np.asarray(val_sgd_errors)\n",
    "plt.plot(running_mean(train_sgd_errors,100), color='g', linewidth=2)\n",
    "plt.plot(val_sgd_errors_array[:,0], val_sgd_errors_array[:,1], color='b', linestyle='--', linewidth=2)\n",
    "#plt.yscale(\"log\")\n",
    "plt.xlabel(\"steps\")\n",
    "plt.ylabel(\"error\")"
   ]
  },
  {
   "cell_type": "markdown",
   "metadata": {},
   "source": [
    "improve this visualization to make the line less wiggly"
   ]
  },
  {
   "cell_type": "code",
   "execution_count": 22,
   "metadata": {
    "ExecuteTime": {
     "end_time": "2018-10-26T07:16:06.470289Z",
     "start_time": "2018-10-26T07:16:06.448804Z"
    }
   },
   "outputs": [
    {
     "name": "stdout",
     "output_type": "stream",
     "text": [
      "0.7087579307326703 0.8193856176832864 0.7525878929565952\n"
     ]
    }
   ],
   "source": [
    "print(net.error(*train_set),net.error(*valid_set),net.error(*test_set))"
   ]
  },
  {
   "cell_type": "code",
   "execution_count": 204,
   "metadata": {
    "ExecuteTime": {
     "end_time": "2018-10-26T00:08:34.278775",
     "start_time": "2018-10-26T00:08:34.021389"
    }
   },
   "outputs": [
    {
     "data": {
      "text/plain": [
       "<matplotlib.image.AxesImage at 0x7f292dec2750>"
      ]
     },
     "execution_count": 204,
     "metadata": {},
     "output_type": "execute_result"
    },
    {
     "data": {
      "image/png": "[encoded data removed]",
      "text/plain": [
       "<matplotlib.figure.Figure at 0x7f2929585390>"
      ]
     },
     "metadata": {},
     "output_type": "display_data"
    }
   ],
   "source": [
    "plt.imshow(net.W1, interpolation=\"nearest\")"
   ]
  },
  {
   "cell_type": "code",
   "execution_count": 166,
   "metadata": {
    "ExecuteTime": {
     "end_time": "2018-10-26T00:00:05.370424",
     "start_time": "2018-10-26T00:00:05.117144"
    }
   },
   "outputs": [
    {
     "data": {
      "text/plain": [
       "<matplotlib.image.AxesImage at 0x7f2929689ad0>"
      ]
     },
     "execution_count": 166,
     "metadata": {},
     "output_type": "execute_result"
    },
    {
     "data": {
      "image/png": "[encoded data removed]",
      "text/plain": [
       "<matplotlib.figure.Figure at 0x7f29297127d0>"
      ]
     },
     "metadata": {},
     "output_type": "display_data"
    }
   ],
   "source": [
    "plt.imshow(net.W2.T,interpolation=\"nearest\")"
   ]
  },
  {
   "cell_type": "code",
   "execution_count": 36,
   "metadata": {
    "ExecuteTime": {
     "end_time": "2018-10-25T22:41:33.083284",
     "start_time": "2018-10-25T22:41:33.078467"
    }
   },
   "outputs": [],
   "source": [
    "?np.random.randint"
   ]
  },
  {
   "cell_type": "code",
   "execution_count": null,
   "metadata": {
    "collapsed": true
   },
   "outputs": [],
   "source": []
  },
  {
   "cell_type": "markdown",
   "metadata": {},
   "source": [
    "## use a larger network"
   ]
  },
  {
   "cell_type": "code",
   "execution_count": 11,
   "metadata": {
    "ExecuteTime": {
     "end_time": "2018-10-26T07:21:00.115736Z",
     "start_time": "2018-10-26T07:21:00.112885Z"
    }
   },
   "outputs": [],
   "source": [
    "net = simpleNN(train_set[0].shape[1], 1, 150)"
   ]
  },
  {
   "cell_type": "code",
   "execution_count": 12,
   "metadata": {
    "ExecuteTime": {
     "end_time": "2018-10-26T07:21:00.762725Z",
     "start_time": "2018-10-26T07:21:00.760011Z"
    }
   },
   "outputs": [],
   "source": [
    "train_sgd_errors = []\n",
    "val_sgd_errors = []\n",
    "steps=0"
   ]
  },
  {
   "cell_type": "code",
   "execution_count": 31,
   "metadata": {
    "ExecuteTime": {
     "end_time": "2018-10-26T07:22:44.252416Z",
     "start_time": "2018-10-26T07:21:01.081450Z"
    }
   },
   "outputs": [],
   "source": [
    "batch_size = 16\n",
    "for i in range(500000):        \n",
    "    idxs = np.random.randint(low = 0, high = len(train_set[0]), size=batch_size)\n",
    "    dat = train_set[0][idxs], train_set[1][idxs]        \n",
    "    train_sgd_errors.append(net.train_with_square_loss(dat[0],dat[1], 0.0002))    \n",
    "    steps+=1\n",
    "    if i%100 ==0: val_sgd_errors.append((steps,net.error(*valid_set)))"
   ]
  },
  {
   "cell_type": "code",
   "execution_count": 32,
   "metadata": {
    "ExecuteTime": {
     "end_time": "2018-10-26T07:22:44.594867Z",
     "start_time": "2018-10-26T07:22:44.262065Z"
    }
   },
   "outputs": [
    {
     "data": {
      "text/plain": [
       "Text(0,0.5,'error')"
      ]
     },
     "execution_count": 32,
     "metadata": {},
     "output_type": "execute_result"
    },
    {
     "data": {
      "image/png": "[encoded data removed]",
      "text/plain": [
       "<Figure size 432x288 with 1 Axes>"
      ]
     },
     "metadata": {},
     "output_type": "display_data"
    }
   ],
   "source": [
    "val_sgd_errors_array = np.asarray(val_sgd_errors)\n",
    "plt.plot(running_mean(train_sgd_errors,100), color='g', linewidth=2)\n",
    "plt.plot(val_sgd_errors_array[:,0], val_sgd_errors_array[:,1], color='b', linestyle='--', linewidth=2)\n",
    "#plt.yscale(\"log\")\n",
    "plt.xlabel(\"steps\")\n",
    "plt.ylabel(\"error\")"
   ]
  },
  {
   "cell_type": "code",
   "execution_count": 209,
   "metadata": {
    "ExecuteTime": {
     "end_time": "2018-10-26T00:09:13.694683",
     "start_time": "2018-10-26T00:09:13.679457"
    }
   },
   "outputs": [
    {
     "name": "stdout",
     "output_type": "stream",
     "text": [
      "(0.7890837934151729, 0.905654544393642, 0.8345361324518671)\n"
     ]
    }
   ],
   "source": [
    "print(net.error(*train_set),net.error(*valid_set),net.error(*test_set))"
   ]
  },
  {
   "cell_type": "code",
   "execution_count": 210,
   "metadata": {
    "ExecuteTime": {
     "end_time": "2018-10-26T00:09:16.221367",
     "start_time": "2018-10-26T00:09:15.970997"
    }
   },
   "outputs": [
    {
     "data": {
      "text/plain": [
       "<matplotlib.image.AxesImage at 0x7f292e26cdd0>"
      ]
     },
     "execution_count": 210,
     "metadata": {},
     "output_type": "execute_result"
    },
    {
     "data": {
      "image/png": "[encoded data removed]",
      "text/plain": [
       "<matplotlib.figure.Figure at 0x7f292def85d0>"
      ]
     },
     "metadata": {},
     "output_type": "display_data"
    }
   ],
   "source": [
    "plt.imshow(net.W1, interpolation=\"nearest\")"
   ]
  },
  {
   "cell_type": "code",
   "execution_count": 211,
   "metadata": {
    "ExecuteTime": {
     "end_time": "2018-10-26T00:09:16.912136",
     "start_time": "2018-10-26T00:09:16.654705"
    }
   },
   "outputs": [
    {
     "data": {
      "text/plain": [
       "<matplotlib.image.AxesImage at 0x7f292ac02990>"
      ]
     },
     "execution_count": 211,
     "metadata": {},
     "output_type": "execute_result"
    },
    {
     "data": {
      "image/png": "[encoded data removed]",
      "text/plain": [
       "<matplotlib.figure.Figure at 0x7f292abc36d0>"
      ]
     },
     "metadata": {},
     "output_type": "display_data"
    }
   ],
   "source": [
    "plt.imshow(net.W2.T,interpolation=\"nearest\")"
   ]
  },
  {
   "cell_type": "code",
   "execution_count": null,
   "metadata": {
    "collapsed": true
   },
   "outputs": [],
   "source": []
  },
  {
   "cell_type": "code",
   "execution_count": 31,
   "metadata": {
    "ExecuteTime": {
     "end_time": "2018-10-26T07:22:44.252416Z",
     "start_time": "2018-10-26T07:21:01.081450Z"
    }
   },
   "outputs": [],
   "source": [
    "batch_size = 16\n",
    "for i in range(500000):        \n",
    "    idxs = np.random.randint(low = 0, high = len(train_set[0]), size=batch_size)\n",
    "    dat = train_set[0][idxs], train_set[1][idxs]        \n",
    "    train_sgd_errors.append(net.train_with_square_loss(dat[0],dat[1], 0.0002))    \n",
    "    steps+=1\n",
    "    if i%100 ==0: val_sgd_errors.append((steps,net.error(*valid_set)))"
   ]
  },
  {
   "cell_type": "code",
   "execution_count": 32,
   "metadata": {
    "ExecuteTime": {
     "end_time": "2018-10-26T07:22:44.594867Z",
     "start_time": "2018-10-26T07:22:44.262065Z"
    }
   },
   "outputs": [
    {
     "data": {
      "text/plain": [
       "Text(0,0.5,'error')"
      ]
     },
     "execution_count": 32,
     "metadata": {},
     "output_type": "execute_result"
    },
    {
     "data": {
      "image/png": "[encoded data removed]",
      "text/plain": [
       "<Figure size 432x288 with 1 Axes>"
      ]
     },
     "metadata": {},
     "output_type": "display_data"
    }
   ],
   "source": [
    "val_sgd_errors_array = np.asarray(val_sgd_errors)\n",
    "plt.plot(running_mean(train_sgd_errors,100), color='g', linewidth=2)\n",
    "plt.plot(val_sgd_errors_array[:,0], val_sgd_errors_array[:,1], color='b', linestyle='--', linewidth=2)\n",
    "#plt.yscale(\"log\")\n",
    "plt.xlabel(\"steps\")\n",
    "plt.ylabel(\"error\")"
   ]
  },
  {
   "cell_type": "code",
   "execution_count": 209,
   "metadata": {
    "ExecuteTime": {
     "end_time": "2018-10-26T00:09:13.694683",
     "start_time": "2018-10-26T00:09:13.679457"
    }
   },
   "outputs": [
    {
     "name": "stdout",
     "output_type": "stream",
     "text": [
      "(0.7890837934151729, 0.905654544393642, 0.8345361324518671)\n"
     ]
    }
   ],
   "source": [
    "print(net.error(*train_set),net.error(*valid_set),net.error(*test_set))"
   ]
  },
  {
   "cell_type": "code",
   "execution_count": 25,
   "metadata": {},
   "outputs": [
    {
     "data": {
      "text/plain": [
       "(0.1408644924197778, 2.1013427010476655, 0.002770936846145176)"
      ]
     },
     "execution_count": 25,
     "metadata": {},
     "output_type": "execute_result"
    }
   ],
   "source": [
    "np.std(net.W1), np.max(net.W1),np.mean(net.W1)"
   ]
  },
  {
   "cell_type": "code",
   "execution_count": 210,
   "metadata": {
    "ExecuteTime": {
     "end_time": "2018-10-26T00:09:16.221367",
     "start_time": "2018-10-26T00:09:15.970997"
    }
   },
   "outputs": [
    {
     "data": {
      "text/plain": [
       "<matplotlib.image.AxesImage at 0x7f292e26cdd0>"
      ]
     },
     "execution_count": 210,
     "metadata": {},
     "output_type": "execute_result"
    },
    {
     "data": {
      "image/png": "[encoded data removed]",
      "text/plain": [
       "<matplotlib.figure.Figure at 0x7f292def85d0>"
      ]
     },
     "metadata": {},
     "output_type": "display_data"
    }
   ],
   "source": [
    "plt.imshow(net.W1, interpolation=\"nearest\")"
   ]
  },
  {
   "cell_type": "code",
   "execution_count": 211,
   "metadata": {
    "ExecuteTime": {
     "end_time": "2018-10-26T00:09:16.912136",
     "start_time": "2018-10-26T00:09:16.654705"
    }
   },
   "outputs": [
    {
     "data": {
      "text/plain": [
       "<matplotlib.image.AxesImage at 0x7f292ac02990>"
      ]
     },
     "execution_count": 211,
     "metadata": {},
     "output_type": "execute_result"
    },
    {
     "data": {
      "image/png": "[encoded data removed]",
      "text/plain": [
       "<matplotlib.figure.Figure at 0x7f292abc36d0>"
      ]
     },
     "metadata": {},
     "output_type": "display_data"
    }
   ],
   "source": [
    "plt.imshow(net.W2.T,interpolation=\"nearest\")"
   ]
  },
  {
   "cell_type": "markdown",
   "metadata": {},
   "source": [
    "### With regularization"
   ]
  },
  {
   "cell_type": "code",
   "execution_count": 12,
   "metadata": {
    "ExecuteTime": {
     "end_time": "2018-10-26T07:21:00.762725Z",
     "start_time": "2018-10-26T07:21:00.760011Z"
    }
   },
   "outputs": [],
   "source": [
    "train_sgd_errors = []\n",
    "val_sgd_errors = []\n",
    "steps=0"
   ]
  },
  {
   "cell_type": "code",
   "execution_count": 48,
   "metadata": {
    "ExecuteTime": {
     "end_time": "2018-10-26T07:22:44.252416Z",
     "start_time": "2018-10-26T07:21:01.081450Z"
    }
   },
   "outputs": [],
   "source": [
    "batch_size = 16\n",
    "for i in range(50000):        \n",
    "    idxs = np.random.randint(low = 0, high = len(train_set[0]), size=batch_size)\n",
    "    dat = train_set[0][idxs], train_set[1][idxs]        \n",
    "    train_sgd_errors.append(net.train_with_square_loss(dat[0],dat[1], 0.00001, 1e-4))    \n",
    "    steps+=1\n",
    "    if i%100 ==0: val_sgd_errors.append((steps,net.error(*valid_set)))"
   ]
  },
  {
   "cell_type": "code",
   "execution_count": 49,
   "metadata": {
    "ExecuteTime": {
     "end_time": "2018-10-26T07:22:44.594867Z",
     "start_time": "2018-10-26T07:22:44.262065Z"
    }
   },
   "outputs": [
    {
     "data": {
      "text/plain": [
       "Text(0,0.5,'error')"
      ]
     },
     "execution_count": 49,
     "metadata": {},
     "output_type": "execute_result"
    },
    {
     "data": {
      "image/png": "[encoded data removed]",
      "text/plain": [
       "<Figure size 432x288 with 1 Axes>"
      ]
     },
     "metadata": {},
     "output_type": "display_data"
    }
   ],
   "source": [
    "val_sgd_errors_array = np.asarray(val_sgd_errors)\n",
    "plt.plot(running_mean(train_sgd_errors,100), color='g', linewidth=2)\n",
    "plt.plot(val_sgd_errors_array[:,0], val_sgd_errors_array[:,1], color='b', linestyle='--', linewidth=2)\n",
    "#plt.yscale(\"log\")\n",
    "plt.xlabel(\"steps\")\n",
    "plt.ylabel(\"error\")"
   ]
  },
  {
   "cell_type": "code",
   "execution_count": 50,
   "metadata": {
    "ExecuteTime": {
     "end_time": "2018-10-26T00:09:13.694683",
     "start_time": "2018-10-26T00:09:13.679457"
    }
   },
   "outputs": [
    {
     "name": "stdout",
     "output_type": "stream",
     "text": [
      "0.7533851238720483 0.8881363802825027 0.7819042725437365\n"
     ]
    }
   ],
   "source": [
    "print(net.error(*train_set),net.error(*valid_set),net.error(*test_set))"
   ]
  },
  {
   "cell_type": "code",
   "execution_count": 51,
   "metadata": {
    "ExecuteTime": {
     "end_time": "2018-10-26T00:09:16.221367",
     "start_time": "2018-10-26T00:09:15.970997"
    }
   },
   "outputs": [
    {
     "data": {
      "text/plain": [
       "<matplotlib.image.AxesImage at 0x7f08afbe9048>"
      ]
     },
     "execution_count": 51,
     "metadata": {},
     "output_type": "execute_result"
    },
    {
     "data": {
      "image/png": "[encoded data removed]",
      "text/plain": [
       "<Figure size 432x288 with 1 Axes>"
      ]
     },
     "metadata": {},
     "output_type": "display_data"
    }
   ],
   "source": [
    "plt.imshow(net.W1, interpolation=\"nearest\")"
   ]
  },
  {
   "cell_type": "code",
   "execution_count": 52,
   "metadata": {},
   "outputs": [
    {
     "data": {
      "text/plain": [
       "(0.17201399876020998, 2.233119178401535, 0.002970449482575789)"
      ]
     },
     "execution_count": 52,
     "metadata": {},
     "output_type": "execute_result"
    }
   ],
   "source": [
    "np.std(net.W1), np.max(net.W1),np.mean(net.W1)"
   ]
  },
  {
   "cell_type": "code",
   "execution_count": 22,
   "metadata": {
    "ExecuteTime": {
     "end_time": "2018-10-26T00:09:16.912136",
     "start_time": "2018-10-26T00:09:16.654705"
    }
   },
   "outputs": [
    {
     "data": {
      "text/plain": [
       "<matplotlib.image.AxesImage at 0x7f08b0524c18>"
      ]
     },
     "execution_count": 22,
     "metadata": {},
     "output_type": "execute_result"
    },
    {
     "data": {
      "image/png": "[encoded data removed]",
      "text/plain": [
       "<Figure size 432x288 with 1 Axes>"
      ]
     },
     "metadata": {},
     "output_type": "display_data"
    }
   ],
   "source": [
    "plt.imshow(net.W2.T,interpolation=\"nearest\")"
   ]
  },
  {
   "cell_type": "code",
   "execution_count": null,
   "metadata": {},
   "outputs": [],
   "source": []
  }
 ],
 "metadata": {
  "kernelspec": {
   "display_name": "Python 3",
   "language": "python",
   "name": "python3"
  },
  "language_info": {
   "codemirror_mode": {
    "name": "ipython",
    "version": 3
   },
   "file_extension": ".py",
   "mimetype": "text/x-python",
   "name": "python",
   "nbconvert_exporter": "python",
   "pygments_lexer": "ipython3",
   "version": "3.6.3"
  }
 },
 "nbformat": 4,
 "nbformat_minor": 2
}

{
 "cells": [
  {
   "cell_type": "code",
   "execution_count": 20,
   "metadata": {
    "ExecuteTime": {
     "end_time": "2017-05-03T16:57:53.645050Z",
     "start_time": "2017-05-03T18:57:50.929603+02:00"
    }
   },
   "outputs": [],
   "source": [
    "import numpy as np\n",
    "import matplotlib.pyplot as plt\n",
    "import csv\n",
    "%matplotlib inline"
   ]
  },
  {
   "cell_type": "markdown",
   "metadata": {},
   "source": [
    "Load file and split input from target"
   ]
  },
  {
   "cell_type": "code",
   "execution_count": 42,
   "metadata": {
    "ExecuteTime": {
     "end_time": "2017-05-03T16:57:53.651866Z",
     "start_time": "2017-05-03T18:57:53.646228+02:00"
    }
   },
   "outputs": [],
   "source": [
    "with open(\"diabetes.txt\",\"r\") as file:\n",
    "    csvreader = csv.reader(file, delimiter=' ')\n",
    "    table = np.asarray([row for row in csvreader], dtype=np.float)\n",
    "xs = np.transpose(table[:,0:-1])\n",
    "ys = table[:,-1]"
   ]
  },
  {
   "cell_type": "markdown",
   "metadata": {},
   "source": [
    "Check what we actually loaded (first two examples)"
   ]
  },
  {
   "cell_type": "code",
   "execution_count": 43,
   "metadata": {
    "ExecuteTime": {
     "end_time": "2017-05-03T16:57:53.662543Z",
     "start_time": "2017-05-03T18:57:53.653190+02:00"
    }
   },
   "outputs": [
    {
     "name": "stdout",
     "output_type": "stream",
     "text": [
      "(10, 442) (442,)\n",
      "[[ 0.038076 -0.001882]\n",
      " [ 0.05068  -0.044642]\n",
      " [ 0.061696 -0.051474]\n",
      " [ 0.021872 -0.026328]\n",
      " [-0.044223 -0.008449]\n",
      " [-0.034821 -0.019163]\n",
      " [-0.043401  0.074412]\n",
      " [-0.002592 -0.039493]\n",
      " [ 0.019908 -0.06833 ]\n",
      " [-0.017646 -0.092204]]\n",
      "[151.  75.]\n"
     ]
    }
   ],
   "source": [
    "print(xs.shape,ys.shape)\n",
    "print(xs[:,:2])\n",
    "print(ys[:2])"
   ]
  },
  {
   "cell_type": "markdown",
   "metadata": {},
   "source": [
    "add constant feature"
   ]
  },
  {
   "cell_type": "code",
   "execution_count": 52,
   "metadata": {
    "ExecuteTime": {
     "end_time": "2017-05-03T16:57:53.672486Z",
     "start_time": "2017-05-03T18:57:53.664014+02:00"
    }
   },
   "outputs": [
    {
     "name": "stdout",
     "output_type": "stream",
     "text": [
      "[ 0.038076  0.05068   0.061696  0.021872 -0.044223 -0.034821 -0.043401\n",
      " -0.002592  0.019908 -0.017646  1.      ]\n"
     ]
    }
   ],
   "source": [
    "xs = np.vstack([xs,np.ones((1,xs.shape[1]))])\n",
    "print(xs[:,0])"
   ]
  },
  {
   "cell_type": "markdown",
   "metadata": {},
   "source": [
    "split data (here fixed splitting at 200 and 400)"
   ]
  },
  {
   "cell_type": "code",
   "execution_count": 53,
   "metadata": {
    "ExecuteTime": {
     "end_time": "2017-05-03T16:57:54.766370Z",
     "start_time": "2017-05-03T18:57:54.761571+02:00"
    }
   },
   "outputs": [],
   "source": [
    "(train_dat,val_dat,test_dat) = ((xs[:,:100],ys[:100]),(xs[:,200:400],ys[200:400]),(xs[:,400:],ys[400:]))"
   ]
  },
  {
   "cell_type": "markdown",
   "metadata": {},
   "source": [
    "ridge regression"
   ]
  },
  {
   "cell_type": "code",
   "execution_count": 54,
   "metadata": {
    "ExecuteTime": {
     "end_time": "2017-05-03T16:57:55.715359Z",
     "start_time": "2017-05-03T18:57:55.708266+02:00"
    }
   },
   "outputs": [],
   "source": [
    "def solve_ridge_regression(inputs,outputs,regularization):\n",
    "    d,n = inputs.shape\n",
    "    inverted = np.linalg.inv(np.dot(inputs,np.transpose(inputs))+regularization*np.eye(d))\n",
    "    w = np.dot(np.dot(inverted,inputs), outputs)\n",
    "    return w              "
   ]
  },
  {
   "cell_type": "code",
   "execution_count": 55,
   "metadata": {
    "ExecuteTime": {
     "end_time": "2017-05-03T16:57:55.905123Z",
     "start_time": "2017-05-03T18:57:55.895634+02:00"
    }
   },
   "outputs": [
    {
     "data": {
      "text/plain": [
       "array([  31.94608079, -387.53912739,  476.69855714,  176.85827758,\n",
       "        296.4459364 , -641.07753001, -227.54044767,  310.34200479,\n",
       "        544.37503007,  -57.72684959,  146.4345339 ])"
      ]
     },
     "execution_count": 55,
     "metadata": {},
     "output_type": "execute_result"
    }
   ],
   "source": [
    "parameter = solve_ridge_regression(train_dat[0],train_dat[1],0.)\n",
    "parameter"
   ]
  },
  {
   "cell_type": "code",
   "execution_count": 56,
   "metadata": {
    "ExecuteTime": {
     "end_time": "2017-05-03T16:58:18.141814Z",
     "start_time": "2017-05-03T18:58:18.136178+02:00"
    }
   },
   "outputs": [],
   "source": [
    "def evaluate_linear_model(inputs,outputs,parameters):\n",
    "    predictions = np.dot(parameters,inputs)    \n",
    "    return np.sum(np.square(predictions - outputs))/len(predictions)"
   ]
  },
  {
   "cell_type": "code",
   "execution_count": 57,
   "metadata": {
    "ExecuteTime": {
     "end_time": "2017-05-03T16:58:18.487183Z",
     "start_time": "2017-05-03T18:58:18.482053+02:00"
    }
   },
   "outputs": [
    {
     "data": {
      "text/plain": [
       "41.75683310769331"
      ]
     },
     "execution_count": 57,
     "metadata": {},
     "output_type": "execute_result"
    }
   ],
   "source": [
    "np.sqrt(evaluate_linear_model(test_dat[0],test_dat[1],parameter))"
   ]
  },
  {
   "cell_type": "markdown",
   "metadata": {},
   "source": [
    "Least Squares"
   ]
  },
  {
   "cell_type": "code",
   "execution_count": 58,
   "metadata": {
    "ExecuteTime": {
     "end_time": "2017-05-03T16:58:19.494405Z",
     "start_time": "2017-05-03T18:58:19.488271+02:00"
    }
   },
   "outputs": [],
   "source": [
    "lsm = solve_ridge_regression(train_dat[0], train_dat[1], 0)\n",
    "lsm_train_error = evaluate_linear_model(train_dat[0],train_dat[1],lsm)\n",
    "lsm_val_error   = evaluate_linear_model(val_dat[0],val_dat[1],lsm)"
   ]
  },
  {
   "cell_type": "markdown",
   "metadata": {},
   "source": [
    "Ridge Regression"
   ]
  },
  {
   "cell_type": "code",
   "execution_count": 59,
   "metadata": {
    "ExecuteTime": {
     "end_time": "2017-05-03T16:58:20.127433Z",
     "start_time": "2017-05-03T18:58:20.115466+02:00"
    }
   },
   "outputs": [],
   "source": [
    "ls = range(-20,10)\n",
    "learned_models = [ solve_ridge_regression(train_dat[0], train_dat[1], 2**l) for l in ls ]\n",
    "train_errors= [ evaluate_linear_model(train_dat[0],train_dat[1],w) for w in learned_models]\n",
    "val_errors= [ evaluate_linear_model(val_dat[0],val_dat[1],w) for w in learned_models]\n",
    "min_val_idx = np.argmin(val_errors)"
   ]
  },
  {
   "cell_type": "code",
   "execution_count": 62,
   "metadata": {
    "ExecuteTime": {
     "end_time": "2017-05-03T16:58:20.583375Z",
     "start_time": "2017-05-03T18:58:20.398704+02:00"
    }
   },
   "outputs": [
    {
     "data": {
      "text/plain": [
       "Text(0,0.5,'Error')"
      ]
     },
     "execution_count": 62,
     "metadata": {},
     "output_type": "execute_result"
    },
    {
     "data": {
      "image/png": "[encoded data removed]",
      "text/plain": [
       "<Figure size 432x288 with 1 Axes>"
      ]
     },
     "metadata": {},
     "output_type": "display_data"
    }
   ],
   "source": [
    "plt.plot(ls,train_errors)\n",
    "plt.plot(ls,val_errors)\n",
    "plt.yscale(\"log\")\n",
    "plt.plot([ls[0], ls[-1]], [lsm_train_error, lsm_train_error], color='b', linestyle='--', linewidth=2)\n",
    "plt.axhline(y=lsm_val_error, color='g', linestyle='--', linewidth=2)\n",
    "#plt.plot([ls[0], ls[-1]], [lsm_val_error, lsm_val_error], color='g', linestyle='--', linewidth=2)\n",
    "plt.plot(ls[min_val_idx], val_errors[min_val_idx], color='k', marker='o')\n",
    "plt.xlabel(\"l, lambda = 2**l\")\n",
    "plt.ylabel(\"Error\")"
   ]
  },
  {
   "cell_type": "code",
   "execution_count": null,
   "metadata": {},
   "outputs": [],
   "source": []
  }
 ],
 "metadata": {
  "kernelspec": {
   "display_name": "Python 3",
   "language": "python",
   "name": "python3"
  },
  "language_info": {
   "codemirror_mode": {
    "name": "ipython",
    "version": 3
   },
   "file_extension": ".py",
   "mimetype": "text/x-python",
   "name": "python",
   "nbconvert_exporter": "python",
   "pygments_lexer": "ipython3",
   "version": "3.6.3"
  }
 },
 "nbformat": 4,
 "nbformat_minor": 2
}
